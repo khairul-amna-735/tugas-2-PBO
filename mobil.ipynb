{
  "nbformat": 4,
  "nbformat_minor": 0,
  "metadata": {
    "colab": {
      "provenance": []
    },
    "kernelspec": {
      "name": "python3",
      "display_name": "Python 3"
    },
    "language_info": {
      "name": "python"
    }
  },
  "cells": [
    {
      "cell_type": "code",
      "execution_count": 6,
      "metadata": {
        "colab": {
          "base_uri": "https://localhost:8080/"
        },
        "id": "Ix8hPTOfgyEH",
        "outputId": "4bb2103d-60ef-4598-f0f6-a1e7839c5d29"
      },
      "outputs": [
        {
          "output_type": "stream",
          "name": "stdout",
          "text": [
            "Mobil Mercy sedang berjalan.\n"
          ]
        }
      ],
      "source": [
        "class Mobil:\n",
        "    def __init__(self, merk):\n",
        "        self.merk = merk\n",
        "\n",
        "    def jalankan(self):\n",
        "        print(f\"Mobil {self.merk} sedang berjalan.\")\n",
        "\n",
        "car = Mobil(\"Mercy\")\n",
        "car.jalankan()"
      ]
    }
  ]
}