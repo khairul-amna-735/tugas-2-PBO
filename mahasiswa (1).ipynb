{
  "nbformat": 4,
  "nbformat_minor": 0,
  "metadata": {
    "colab": {
      "provenance": []
    },
    "kernelspec": {
      "name": "python3",
      "display_name": "Python 3"
    },
    "language_info": {
      "name": "python"
    }
  },
  "cells": [
    {
      "cell_type": "code",
      "execution_count": null,
      "metadata": {
        "id": "MSDrubqjNg0z"
      },
      "outputs": [],
      "source": [
        "class Mahasiswa:\n",
        "    def __init__(self, nama, nim, jurusan):\n",
        "        self.nama = nama\n",
        "        self.nim = nim\n",
        "        self.jurusan = jurusan\n",
        "\n",
        "def main():\n",
        "    mhs = Mahasiswa(\"Ali Ahmad\", \"12345\", \"Teknik Informatika\")\n",
        "\n",
        "    print(\"Nama Mahasiswa:\", mhs.nama)\n",
        "    print(\"NIM:\", mhs.nim)\n",
        "    print(\"Jurusan:\", mhs.jurusan)\n",
        "\n",
        "if __name__ == \"__main__\":\n",
        "    main()\n"
      ]
    }
  ]
}