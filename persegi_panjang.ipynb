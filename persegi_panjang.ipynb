{
  "nbformat": 4,
  "nbformat_minor": 0,
  "metadata": {
    "colab": {
      "provenance": []
    },
    "kernelspec": {
      "name": "python3",
      "display_name": "Python 3"
    },
    "language_info": {
      "name": "python"
    }
  },
  "cells": [
    {
      "cell_type": "code",
      "execution_count": 2,
      "metadata": {
        "colab": {
          "base_uri": "https://localhost:8080/"
        },
        "id": "MSDrubqjNg0z",
        "outputId": "1da95681-d930-4bdd-b06d-2d7aa2d2be57"
      },
      "outputs": [
        {
          "output_type": "stream",
          "name": "stdout",
          "text": [
            "Luas Persegi Panjang: 50\n",
            "Keliling Persegi Panjang: 30\n"
          ]
        }
      ],
      "source": [
        "class PersegiPanjang:\n",
        "    def __init__(self, panjang, lebar):\n",
        "        self.panjang = panjang\n",
        "        self.lebar = lebar\n",
        "\n",
        "    def hitung_luas(self):\n",
        "        return self.panjang * self.lebar\n",
        "\n",
        "    def hitung_keliling(self):\n",
        "        return 2 * (self.panjang + self.lebar)\n",
        "\n",
        "def main():\n",
        "    pp = PersegiPanjang(5, 10)\n",
        "    print(\"Luas Persegi Panjang:\", pp.hitung_luas())\n",
        "    print(\"Keliling Persegi Panjang:\", pp.hitung_keliling())\n",
        "\n",
        "if __name__ == \"__main__\":\n",
        "    main()\n"
      ]
    }
  ]
}