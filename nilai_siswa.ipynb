{
  "nbformat": 4,
  "nbformat_minor": 0,
  "metadata": {
    "colab": {
      "provenance": []
    },
    "kernelspec": {
      "name": "python3",
      "display_name": "Python 3"
    },
    "language_info": {
      "name": "python"
    }
  },
  "cells": [
    {
      "cell_type": "code",
      "execution_count": 4,
      "metadata": {
        "colab": {
          "base_uri": "https://localhost:8080/"
        },
        "id": "MSDrubqjNg0z",
        "outputId": "cc72de66-ac3e-4b71-bd73-813a77f920d5"
      },
      "outputs": [
        {
          "output_type": "stream",
          "name": "stdout",
          "text": [
            "Nama Siswa: Rani\n",
            "Rata-rata Nilai: 81.66666666666667\n",
            "Status Kelulusan: Lulus\n"
          ]
        }
      ],
      "source": [
        "class NilaiSiswa:\n",
        "    def __init__(self, nama, nilai_ujian):\n",
        "        self.nama = nama\n",
        "        self.nilai_ujian = nilai_ujian\n",
        "\n",
        "    def hitung_rata_rata(self):\n",
        "        return sum(self.nilai_ujian) / len(self.nilai_ujian)\n",
        "\n",
        "    def status_kelulusan(self):\n",
        "        if self.hitung_rata_rata() >= 70:\n",
        "            return \"Lulus\"\n",
        "        else:\n",
        "            return \"Tidak Lulus\"\n",
        "\n",
        "def main():\n",
        "    siswa = NilaiSiswa(\"Rani\", [80, 75, 90])\n",
        "\n",
        "    print(\"Nama Siswa:\", siswa.nama)\n",
        "    print(\"Rata-rata Nilai:\", siswa.hitung_rata_rata())\n",
        "    print(\"Status Kelulusan:\", siswa.status_kelulusan())\n",
        "\n",
        "if __name__ == \"__main__\":\n",
        "    main()\n"
      ]
    }
  ]
}