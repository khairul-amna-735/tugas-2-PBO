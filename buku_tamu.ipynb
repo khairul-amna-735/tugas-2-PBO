{
  "nbformat": 4,
  "nbformat_minor": 0,
  "metadata": {
    "colab": {
      "provenance": []
    },
    "kernelspec": {
      "name": "python3",
      "display_name": "Python 3"
    },
    "language_info": {
      "name": "python"
    }
  },
  "cells": [
    {
      "cell_type": "code",
      "execution_count": 3,
      "metadata": {
        "colab": {
          "base_uri": "https://localhost:8080/"
        },
        "id": "MSDrubqjNg0z",
        "outputId": "41661520-1a07-4ae1-f31c-2a88b77b2ca2"
      },
      "outputs": [
        {
          "output_type": "stream",
          "name": "stdout",
          "text": [
            "Daftar Tamu:\n",
            "Nama: Budi, Alamat: Jl. Merdeka No.1\n",
            "Nama: Siti, Alamat: Jl. Raya No.5\n"
          ]
        }
      ],
      "source": [
        "class BukuTamu:\n",
        "    def __init__(self):\n",
        "        self.tamu = []\n",
        "\n",
        "    def tambah_tamu(self, nama, alamat):\n",
        "        self.tamu.append({\"Nama\": nama, \"Alamat\": alamat})\n",
        "\n",
        "    def tampilkan_tamu(self):\n",
        "        for tamu in self.tamu:\n",
        "            print(f\"Nama: {tamu['Nama']}, Alamat: {tamu['Alamat']}\")\n",
        "\n",
        "def main():\n",
        "    buku_tamu = BukuTamu()\n",
        "    buku_tamu.tambah_tamu(\"Budi\", \"Jl. Merdeka No.1\")\n",
        "    buku_tamu.tambah_tamu(\"Siti\", \"Jl. Raya No.5\")\n",
        "\n",
        "    print(\"Daftar Tamu:\")\n",
        "    buku_tamu.tampilkan_tamu()\n",
        "\n",
        "if __name__ == \"__main__\":\n",
        "    main()\n"
      ]
    }
  ]
}